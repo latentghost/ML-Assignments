{
 "cells": [
  {
   "cell_type": "code",
   "execution_count": 1,
   "metadata": {},
   "outputs": [],
   "source": [
    "import pandas as pd\n",
    "import numpy as np"
   ]
  },
  {
   "cell_type": "code",
   "execution_count": 2,
   "metadata": {},
   "outputs": [],
   "source": [
    "df_train = pd.read_csv(\"../dataset/mnist_train.csv\")\n",
    "df_test = pd.read_csv(\"../dataset/mnist_test.csv\")"
   ]
  },
  {
   "cell_type": "code",
   "execution_count": 3,
   "metadata": {},
   "outputs": [],
   "source": [
    "Y_train     = df_train['label']\n",
    "X_train     = df_train.drop(columns=['label'])\n",
    "Y_test      = df_test['label']\n",
    "X_test      = df_test.drop(columns=['label'])"
   ]
  },
  {
   "cell_type": "code",
   "execution_count": 4,
   "metadata": {},
   "outputs": [],
   "source": [
    "Y_train = pd.get_dummies(Y_train,columns=['label'])\n",
    "Y_test = pd.get_dummies(Y_test,columns=['label'])"
   ]
  },
  {
   "cell_type": "code",
   "execution_count": 5,
   "metadata": {},
   "outputs": [],
   "source": [
    "X_train = X_train/255.0\n",
    "X_test = X_test/255.0"
   ]
  },
  {
   "cell_type": "code",
   "execution_count": 6,
   "metadata": {},
   "outputs": [
    {
     "ename": "ModuleNotFoundError",
     "evalue": "No module named 'utils'",
     "output_type": "error",
     "traceback": [
      "\u001b[0;31m---------------------------------------------------------------------------\u001b[0m",
      "\u001b[0;31mModuleNotFoundError\u001b[0m                       Traceback (most recent call last)",
      "\u001b[1;32m/Users/akshatgupta/Desktop/IIITD/SEM_5/ML/ML-Assignments/Assignment3/B/B.ipynb Cell 6\u001b[0m line \u001b[0;36m<cell line: 1>\u001b[0;34m()\u001b[0m\n\u001b[0;32m----> <a href='vscode-notebook-cell:/Users/akshatgupta/Desktop/IIITD/SEM_5/ML/ML-Assignments/Assignment3/B/B.ipynb#X11sZmlsZQ%3D%3D?line=0'>1</a>\u001b[0m \u001b[39mfrom\u001b[39;00m \u001b[39mnn_class\u001b[39;00m\u001b[39m.\u001b[39;00m\u001b[39mnn\u001b[39;00m \u001b[39mimport\u001b[39;00m NeuralNetwork\n\u001b[1;32m      <a href='vscode-notebook-cell:/Users/akshatgupta/Desktop/IIITD/SEM_5/ML/ML-Assignments/Assignment3/B/B.ipynb#X11sZmlsZQ%3D%3D?line=1'>2</a>\u001b[0m \u001b[39mfrom\u001b[39;00m \u001b[39mnn_class\u001b[39;00m\u001b[39m.\u001b[39;00m\u001b[39mutils\u001b[39;00m \u001b[39mimport\u001b[39;00m zero_init,random_init,normal_init\n\u001b[1;32m      <a href='vscode-notebook-cell:/Users/akshatgupta/Desktop/IIITD/SEM_5/ML/ML-Assignments/Assignment3/B/B.ipynb#X11sZmlsZQ%3D%3D?line=3'>4</a>\u001b[0m nn_1 \u001b[39m=\u001b[39m NeuralNetwork(\n\u001b[1;32m      <a href='vscode-notebook-cell:/Users/akshatgupta/Desktop/IIITD/SEM_5/ML/ML-Assignments/Assignment3/B/B.ipynb#X11sZmlsZQ%3D%3D?line=4'>5</a>\u001b[0m     N \u001b[39m=\u001b[39m \u001b[39m5\u001b[39m,\n\u001b[1;32m      <a href='vscode-notebook-cell:/Users/akshatgupta/Desktop/IIITD/SEM_5/ML/ML-Assignments/Assignment3/B/B.ipynb#X11sZmlsZQ%3D%3D?line=5'>6</a>\u001b[0m     input_size \u001b[39m=\u001b[39m X_train\u001b[39m.\u001b[39mshape[\u001b[39m1\u001b[39m],\n\u001b[0;32m   (...)\u001b[0m\n\u001b[1;32m      <a href='vscode-notebook-cell:/Users/akshatgupta/Desktop/IIITD/SEM_5/ML/ML-Assignments/Assignment3/B/B.ipynb#X11sZmlsZQ%3D%3D?line=8'>9</a>\u001b[0m     bias_init \u001b[39m=\u001b[39m zero_init\n\u001b[1;32m     <a href='vscode-notebook-cell:/Users/akshatgupta/Desktop/IIITD/SEM_5/ML/ML-Assignments/Assignment3/B/B.ipynb#X11sZmlsZQ%3D%3D?line=9'>10</a>\u001b[0m )\n",
      "File \u001b[0;32m~/Desktop/IIITD/SEM_5/ML/ML-Assignments/Assignment3/B/nn_class/nn.py:1\u001b[0m, in \u001b[0;36m<module>\u001b[0;34m\u001b[0m\n\u001b[0;32m----> 1\u001b[0m \u001b[39mfrom\u001b[39;00m \u001b[39mutils\u001b[39;00m \u001b[39mimport\u001b[39;00m \u001b[39m*\u001b[39m\n\u001b[1;32m      3\u001b[0m \u001b[39mclass\u001b[39;00m \u001b[39mNeuralNetwork\u001b[39;00m:\n\u001b[1;32m      4\u001b[0m     \u001b[39mdef\u001b[39;00m \u001b[39m__init__\u001b[39m(\u001b[39mself\u001b[39m, N, layer_sizes, lr, activation, grad_act, weight_init, bias_init, epochs, batch_size):\n",
      "\u001b[0;31mModuleNotFoundError\u001b[0m: No module named 'utils'"
     ]
    }
   ],
   "source": [
    "from nn_class.nn import NeuralNetwork\n",
    "from nn_class.utils import zero_init,random_init,normal_init\n",
    "\n",
    "nn_1 = NeuralNetwork(\n",
    "    N = 5,\n",
    "    input_size = X_train.shape[1],\n",
    "    layer_sizes = [256,128,64,32,10],\n",
    "    weight_init = normal_init,\n",
    "    bias_init = zero_init\n",
    ")"
   ]
  },
  {
   "cell_type": "code",
   "execution_count": null,
   "metadata": {},
   "outputs": [],
   "source": []
  }
 ],
 "metadata": {
  "kernelspec": {
   "display_name": "Python 3",
   "language": "python",
   "name": "python3"
  },
  "language_info": {
   "codemirror_mode": {
    "name": "ipython",
    "version": 3
   },
   "file_extension": ".py",
   "mimetype": "text/x-python",
   "name": "python",
   "nbconvert_exporter": "python",
   "pygments_lexer": "ipython3",
   "version": "3.10.4"
  }
 },
 "nbformat": 4,
 "nbformat_minor": 2
}
